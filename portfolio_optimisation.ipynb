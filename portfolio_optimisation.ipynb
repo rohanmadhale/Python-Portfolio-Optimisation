{
 "cells": [
  {
   "cell_type": "code",
   "execution_count": 3,
   "metadata": {},
   "outputs": [],
   "source": [
    "# !pip install pyportfolioopt\n",
    "# !pip install pulp\n",
    "# !pip show cvxpy"
   ]
  },
  {
   "cell_type": "code",
   "execution_count": 1,
   "metadata": {},
   "outputs": [],
   "source": [
    "import pandas as pd\n",
    "import numpy as np\n",
    "import requests\n",
    "\n",
    "\n",
    "from pypfopt import EfficientFrontier\n",
    "from pypfopt import risk_models\n",
    "from pypfopt import expected_returns\n",
    "\n",
    "from pypfopt.efficient_frontier import EfficientFrontier\n",
    "\n",
    "from pypfopt.discrete_allocation import DiscreteAllocation, get_latest_prices"
   ]
  },
  {
   "cell_type": "code",
   "execution_count": 2,
   "metadata": {},
   "outputs": [],
   "source": [
    "# Start with PyPortfolioOpt\n",
    "\n",
    "# Read master dataset\n",
    "df = pd.read_excel(\"master.xlsx\")\n",
    "if 'HDFCLIFE' in list(df.columns):\n",
    "    del df['HDFCLIFE']\n",
    "\n",
    "# Set Date as index and drop Date column\n",
    "df = df.set_index(pd.DatetimeIndex(df['Date'].values))\n",
    "df.drop(columns=['Date'], axis=1, inplace=True)"
   ]
  },
  {
   "cell_type": "code",
   "execution_count": 3,
   "metadata": {},
   "outputs": [],
   "source": [
    "# Get different indices below\n",
    "# https://www.niftyindices.com/indices/equity/broad-based-indices/\n",
    "\n",
    "nifty_50_list = pd.read_csv('ind_nifty50list.csv')['Symbol']\n",
    "nifty_100_list = pd.read_csv('ind_nifty100list.csv')['Symbol']\n",
    "nifty_200_list = pd.read_csv('ind_nifty200list.csv')['Symbol']\n",
    "nifty_500_list = pd.read_csv('ind_nifty500list.csv')['Symbol']\n",
    "nifty_500_Multicap_502525 = pd.read_csv('ind_nifty500Multicap502525_list.csv')['Symbol']\n",
    "nifty_midcap_50_list = pd.read_csv('ind_niftymidcap50list.csv')['Symbol']\n",
    "nifty_midcap_100_list = pd.read_csv('ind_niftymidcap100list.csv')['Symbol']\n",
    "nifty_smallcap_50_list = pd.read_csv('ind_niftysmallcap50list.csv')['Symbol']\n",
    "nifty_smallcap_100_list = pd.read_csv('ind_niftysmallcap100list.csv')['Symbol']\n",
    "nifty_smallcap_250_list = pd.read_csv('ind_niftysmallcap250list.csv')['Symbol']\n",
    "nifty_largemidcap_250_list = pd.read_csv('ind_niftylargemidcap250list.csv')['Symbol']\n",
    "nifty_midsmallcap_400_list = pd.read_csv('ind_niftymidsmallcap400list.csv')['Symbol']\n",
    "nifty_tata = pd.read_csv('ind_nifty_tatalist.csv')['Symbol']\n",
    "nifty_finance = pd.read_csv('ind_niftyfinancelist.csv')['Symbol']\n",
    "nifty_fmcg = pd.read_csv('ind_niftyfmcglist.csv')['Symbol']\n",
    "nifty_it = pd.read_csv('ind_niftyitlist.csv')['Symbol']\n",
    "nifty_metal = pd.read_csv('ind_niftymetallist.csv')['Symbol']\n",
    "nifty_pharma = pd.read_csv('ind_niftypharmalist.csv')['Symbol']\n",
    "nifty_energy = pd.read_csv('ind_niftyenergylist.csv')['Symbol']"
   ]
  },
  {
   "cell_type": "code",
   "execution_count": 4,
   "metadata": {},
   "outputs": [],
   "source": [
    "# Create a dictonary of indices with name of the index and all the stocks in that index\n",
    "\n",
    "indices = {'NIFTY_50':nifty_50_list,\n",
    "           'NIFTY_100':nifty_100_list,\n",
    "           'NIFTY_200':nifty_200_list, \n",
    "           'NIFTY_500':nifty_500_list,\n",
    "           'NIFTY_500_MULTICAP_502525':nifty_500_Multicap_502525,\n",
    "           'NIFTY_50_MIDCAP':nifty_midcap_50_list,\n",
    "           'NIFTY_100_MIDCAP':nifty_midcap_100_list,\n",
    "           'NIFTY_50_SMALLCAP':nifty_smallcap_50_list,\n",
    "           'NIFTY_100_SMALLCAP':nifty_smallcap_100_list,\n",
    "           'NIFTY_250_SMALLCAP':nifty_smallcap_250_list,\n",
    "           'NIFTY_250_LARGE_MIDCAP':nifty_largemidcap_250_list,\n",
    "           'NIFTY_400_MID_SMALLCAP':nifty_midsmallcap_400_list,\n",
    "           'NIFTY_METAL':nifty_metal,\n",
    "           'NIFTY_TATA':nifty_tata,\n",
    "           'NIFTY_FINANCE':nifty_finance,\n",
    "           'NIFTY_FMCG':nifty_fmcg,\n",
    "           'NIFTY_IT':nifty_it,\n",
    "           'NIFTY_PHARMA':nifty_pharma,\n",
    "           'NIFTY_ENERGY':nifty_energy}"
   ]
  },
  {
   "cell_type": "code",
   "execution_count": 1,
   "metadata": {},
   "outputs": [],
   "source": [
    "# Run for all the indices at once\n",
    "\n",
    "for key, index in indices.items():\n",
    "\n",
    "    df1 = df[df.columns[df.columns.isin(index)]]\n",
    "    assets = df1.columns\n",
    "    mu = expected_returns.mean_historical_return(df1)\n",
    "    S = risk_models.sample_cov(df1) \n",
    "    ef = EfficientFrontier(mu, S)\n",
    "    weights = ef.max_sharpe()\n",
    "    cleaned_weights = ef.clean_weights()\n",
    "    print(key)\n",
    "\n",
    "    print(cleaned_weights)\n",
    "    ef.portfolio_performance(verbose=True)\n",
    "    portfolio_val = 3000\n",
    "    latest_prices = get_latest_prices(df1)\n",
    "    weights = cleaned_weights\n",
    "    da = DiscreteAllocation(weights, latest_prices,\n",
    "                            total_portfolio_value=portfolio_val)\n",
    "    allocation, leftover = da.lp_portfolio()\n",
    "    print('Discrete allocation : ', allocation)\n",
    "    print('Funds remaining : ', leftover)\n",
    "    print('Amount to invest : ' + str(portfolio_val))\n",
    "    print('\\n')"
   ]
  }
 ],
 "metadata": {
  "kernelspec": {
   "display_name": "Python 3",
   "language": "python",
   "name": "python3"
  },
  "language_info": {
   "codemirror_mode": {
    "name": "ipython",
    "version": 3
   },
   "file_extension": ".py",
   "mimetype": "text/x-python",
   "name": "python",
   "nbconvert_exporter": "python",
   "pygments_lexer": "ipython3",
   "version": "3.7.4"
  }
 },
 "nbformat": 4,
 "nbformat_minor": 2
}
