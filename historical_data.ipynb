{
 "cells": [
  {
   "cell_type": "code",
   "execution_count": 1,
   "metadata": {},
   "outputs": [],
   "source": [
    "from nsetools import Nse\n",
    "import random\n",
    "import time\n",
    "import requests\n",
    "import os"
   ]
  },
  {
   "cell_type": "code",
   "execution_count": 2,
   "metadata": {},
   "outputs": [],
   "source": [
    "# Get tickers for all the stocks in NSE\n",
    "\n",
    "nse = Nse()\n",
    "\n",
    "all_stock_codes = nse.get_stock_codes()\n",
    "\n",
    "# Remove 'SYMBOL' from the dictonary \n",
    "del all_stock_codes['SYMBOL']\n",
    "\n",
    "# Create a list of all the tickers \n",
    "stock_list = list(all_stock_codes)"
   ]
  },
  {
   "cell_type": "code",
   "execution_count": null,
   "metadata": {},
   "outputs": [],
   "source": [
    "# Change directory if required\n",
    "os.chdir('C:\\\\Users\\\\Documents\\nse')"
   ]
  },
  {
   "cell_type": "code",
   "execution_count": null,
   "metadata": {},
   "outputs": [],
   "source": [
    "# Create empty list to get list of failed tickers later\n",
    "failed_tickers = []"
   ]
  },
  {
   "cell_type": "code",
   "execution_count": 37,
   "metadata": {},
   "outputs": [],
   "source": [
    "# Get data for all tickers for the last 5 years from Yahoo finance and write them in individual files\n",
    "\n",
    "for ticker in stock_list:\n",
    "\n",
    "    try:\n",
    "       # Get data for 5 years till 12 may 2021\n",
    "        URL = 'https://query1.finance.yahoo.com/v7/finance/download/'+ticker + \\\n",
    "            '.NS?period1=1462752000&period2=1620864000&interval=1d&events=history&includeAdjustedClose=true'\n",
    "        page = requests.get(URL)\n",
    "\n",
    "        # Write to every ticker file\n",
    "        file1 = open(str(ticker)+'.NS.txt', 'w')\n",
    "\n",
    "        # Use while creating new file\n",
    "        L = page.text\n",
    "        file1.writelines(L)\n",
    "        file1.close\n",
    "\n",
    "        # Give some lag to avoid getting blocked\n",
    "        time.sleep(random.uniform(0, 1))\n",
    "\n",
    "    except IndexError:\n",
    "        failed_tickers.append(ticker)\n",
    "        print('Failed - ', ticker)"
   ]
  }
 ],
 "metadata": {
  "kernelspec": {
   "display_name": "Python 3",
   "language": "python",
   "name": "python3"
  },
  "language_info": {
   "codemirror_mode": {
    "name": "ipython",
    "version": 3
   },
   "file_extension": ".py",
   "mimetype": "text/x-python",
   "name": "python",
   "nbconvert_exporter": "python",
   "pygments_lexer": "ipython3",
   "version": "3.7.4"
  }
 },
 "nbformat": 4,
 "nbformat_minor": 2
}
