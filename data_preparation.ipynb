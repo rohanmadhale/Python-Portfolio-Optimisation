{
 "cells": [
  {
   "cell_type": "code",
   "execution_count": 1,
   "metadata": {},
   "outputs": [],
   "source": [
    "import os\n",
    "import pandas as pd"
   ]
  },
  {
   "cell_type": "code",
   "execution_count": 2,
   "metadata": {},
   "outputs": [],
   "source": [
    "# Combine all .NS from yahoo finance to create a master dataset\n",
    "# Rename any one file which has all datapoints for 5 years\n",
    "\n",
    "files = [fname for fname in os.listdir(os.getcwd()) if '.NS.txt' in fname]\n",
    "\n",
    "# Take any file which has all values for 5 years\n",
    "df = pd.read_csv('3MINDIA.txt')\n",
    "df = df[['Date', 'Close']]\n",
    "df = df.rename(columns={'Close': '3MINDIA'})\n",
    "\n",
    "#  Merge all the individual files to create a master dataset\n",
    "for i in files:\n",
    "    try:\n",
    "        temp = pd.read_csv(os.getcwd()+'\\\\'+i, error_bad_lines=False)\n",
    "        if temp.shape[0] == df.shape[0]:\n",
    "            temp = temp[['Date', 'Close']]\n",
    "            temp = temp.rename(columns={'Close': i.split('.')[0]})\n",
    "            df = pd.merge(df, temp, on='Date', how='left')\n",
    "    except KeyError:\n",
    "        pass\n",
    "\n",
    "df = df[df.columns.drop(list(df.filter(regex='_y')))]\n",
    "df = df[df.columns.drop(list(df.filter(regex='_x')))]\n",
    "df.to_excel('master.xlsx', index=False)"
   ]
  }
 ],
 "metadata": {
  "kernelspec": {
   "display_name": "Python 3",
   "language": "python",
   "name": "python3"
  },
  "language_info": {
   "codemirror_mode": {
    "name": "ipython",
    "version": 3
   },
   "file_extension": ".py",
   "mimetype": "text/x-python",
   "name": "python",
   "nbconvert_exporter": "python",
   "pygments_lexer": "ipython3",
   "version": "3.7.4"
  }
 },
 "nbformat": 4,
 "nbformat_minor": 2
}
